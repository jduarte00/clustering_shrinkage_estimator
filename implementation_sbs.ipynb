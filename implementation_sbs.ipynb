{
 "cells": [
  {
   "cell_type": "markdown",
   "id": "8a2c5433-a628-49e9-b44c-5a56dc180c5e",
   "metadata": {},
   "source": [
    "# Implementation step by step of the cluster based shrinkage correlation matrix"
   ]
  },
  {
   "cell_type": "code",
   "execution_count": 46,
   "id": "cba7d533-bc5a-4f68-aa0f-c3ff6df6e8f8",
   "metadata": {},
   "outputs": [],
   "source": [
    "import numpy as np\n",
    "import pandas as pd\n",
    "import numpy.linalg as LA\n",
    "from sklearn.cluster import KMeans"
   ]
  },
  {
   "cell_type": "code",
   "execution_count": 30,
   "id": "bdeeb09d-4aad-4c36-a00a-75c7f0991459",
   "metadata": {},
   "outputs": [],
   "source": [
    "X_matrix = pd.read_csv('./data/sp_500_returns.csv', index_col='Date')"
   ]
  },
  {
   "cell_type": "code",
   "execution_count": 31,
   "id": "3937c6fe-26a0-45c2-9cf6-ef5154fbf8e0",
   "metadata": {},
   "outputs": [
    {
     "data": {
      "text/html": [
       "<div>\n",
       "<style scoped>\n",
       "    .dataframe tbody tr th:only-of-type {\n",
       "        vertical-align: middle;\n",
       "    }\n",
       "\n",
       "    .dataframe tbody tr th {\n",
       "        vertical-align: top;\n",
       "    }\n",
       "\n",
       "    .dataframe thead th {\n",
       "        text-align: right;\n",
       "    }\n",
       "</style>\n",
       "<table border=\"1\" class=\"dataframe\">\n",
       "  <thead>\n",
       "    <tr style=\"text-align: right;\">\n",
       "      <th></th>\n",
       "      <th>A</th>\n",
       "      <th>AAL</th>\n",
       "      <th>AAP</th>\n",
       "      <th>AAPL</th>\n",
       "      <th>ABC</th>\n",
       "      <th>ABMD</th>\n",
       "      <th>ABT</th>\n",
       "      <th>ACN</th>\n",
       "      <th>ADBE</th>\n",
       "      <th>ADI</th>\n",
       "      <th>...</th>\n",
       "      <th>WYNN</th>\n",
       "      <th>XEL</th>\n",
       "      <th>XLNX</th>\n",
       "      <th>XOM</th>\n",
       "      <th>XRAY</th>\n",
       "      <th>XYL</th>\n",
       "      <th>YUM</th>\n",
       "      <th>ZBH</th>\n",
       "      <th>ZBRA</th>\n",
       "      <th>ZION</th>\n",
       "    </tr>\n",
       "    <tr>\n",
       "      <th>Date</th>\n",
       "      <th></th>\n",
       "      <th></th>\n",
       "      <th></th>\n",
       "      <th></th>\n",
       "      <th></th>\n",
       "      <th></th>\n",
       "      <th></th>\n",
       "      <th></th>\n",
       "      <th></th>\n",
       "      <th></th>\n",
       "      <th></th>\n",
       "      <th></th>\n",
       "      <th></th>\n",
       "      <th></th>\n",
       "      <th></th>\n",
       "      <th></th>\n",
       "      <th></th>\n",
       "      <th></th>\n",
       "      <th></th>\n",
       "      <th></th>\n",
       "      <th></th>\n",
       "    </tr>\n",
       "  </thead>\n",
       "  <tbody>\n",
       "    <tr>\n",
       "      <th>2012-01-04</th>\n",
       "      <td>-0.007950</td>\n",
       "      <td>-0.017578</td>\n",
       "      <td>0.023444</td>\n",
       "      <td>0.005374</td>\n",
       "      <td>0.003415</td>\n",
       "      <td>-0.007671</td>\n",
       "      <td>-0.003879</td>\n",
       "      <td>-0.000378</td>\n",
       "      <td>-0.010150</td>\n",
       "      <td>-0.001388</td>\n",
       "      <td>...</td>\n",
       "      <td>-0.017197</td>\n",
       "      <td>-0.006584</td>\n",
       "      <td>-0.010635</td>\n",
       "      <td>0.000233</td>\n",
       "      <td>-0.000283</td>\n",
       "      <td>0.033015</td>\n",
       "      <td>0.006829</td>\n",
       "      <td>-0.013534</td>\n",
       "      <td>-0.007559</td>\n",
       "      <td>0.022063</td>\n",
       "    </tr>\n",
       "    <tr>\n",
       "      <th>2012-01-05</th>\n",
       "      <td>0.022382</td>\n",
       "      <td>0.087475</td>\n",
       "      <td>0.006363</td>\n",
       "      <td>0.011102</td>\n",
       "      <td>0.007592</td>\n",
       "      <td>0.008835</td>\n",
       "      <td>-0.002301</td>\n",
       "      <td>-0.019082</td>\n",
       "      <td>0.007072</td>\n",
       "      <td>0.004447</td>\n",
       "      <td>...</td>\n",
       "      <td>-0.010446</td>\n",
       "      <td>0.004418</td>\n",
       "      <td>0.008880</td>\n",
       "      <td>-0.003022</td>\n",
       "      <td>0.000848</td>\n",
       "      <td>-0.014247</td>\n",
       "      <td>0.007631</td>\n",
       "      <td>0.011840</td>\n",
       "      <td>-0.001410</td>\n",
       "      <td>0.028005</td>\n",
       "    </tr>\n",
       "    <tr>\n",
       "      <th>2012-01-06</th>\n",
       "      <td>0.010811</td>\n",
       "      <td>0.023766</td>\n",
       "      <td>0.004637</td>\n",
       "      <td>0.010454</td>\n",
       "      <td>0.002598</td>\n",
       "      <td>-0.007116</td>\n",
       "      <td>-0.009047</td>\n",
       "      <td>-0.001733</td>\n",
       "      <td>0.008427</td>\n",
       "      <td>-0.006641</td>\n",
       "      <td>...</td>\n",
       "      <td>-0.035186</td>\n",
       "      <td>-0.002933</td>\n",
       "      <td>-0.006486</td>\n",
       "      <td>-0.007463</td>\n",
       "      <td>-0.005932</td>\n",
       "      <td>-0.016797</td>\n",
       "      <td>0.007237</td>\n",
       "      <td>0.002600</td>\n",
       "      <td>-0.008192</td>\n",
       "      <td>0.001135</td>\n",
       "    </tr>\n",
       "    <tr>\n",
       "      <th>2012-01-09</th>\n",
       "      <td>0.026203</td>\n",
       "      <td>0.021429</td>\n",
       "      <td>-0.000280</td>\n",
       "      <td>-0.001586</td>\n",
       "      <td>-0.000518</td>\n",
       "      <td>0.003859</td>\n",
       "      <td>-0.000179</td>\n",
       "      <td>-0.001736</td>\n",
       "      <td>-0.006616</td>\n",
       "      <td>0.019499</td>\n",
       "      <td>...</td>\n",
       "      <td>-0.002805</td>\n",
       "      <td>0.000735</td>\n",
       "      <td>0.021759</td>\n",
       "      <td>0.004464</td>\n",
       "      <td>-0.004831</td>\n",
       "      <td>0.003973</td>\n",
       "      <td>-0.003843</td>\n",
       "      <td>0.007410</td>\n",
       "      <td>-0.004557</td>\n",
       "      <td>0.013605</td>\n",
       "    </tr>\n",
       "    <tr>\n",
       "      <th>2012-01-10</th>\n",
       "      <td>0.018760</td>\n",
       "      <td>0.000000</td>\n",
       "      <td>0.000839</td>\n",
       "      <td>0.003580</td>\n",
       "      <td>0.011408</td>\n",
       "      <td>-0.002746</td>\n",
       "      <td>0.004655</td>\n",
       "      <td>0.017201</td>\n",
       "      <td>0.023484</td>\n",
       "      <td>0.004372</td>\n",
       "      <td>...</td>\n",
       "      <td>0.008346</td>\n",
       "      <td>0.008082</td>\n",
       "      <td>0.001825</td>\n",
       "      <td>0.002573</td>\n",
       "      <td>0.014278</td>\n",
       "      <td>0.012267</td>\n",
       "      <td>0.006206</td>\n",
       "      <td>0.020964</td>\n",
       "      <td>0.009156</td>\n",
       "      <td>0.016219</td>\n",
       "    </tr>\n",
       "  </tbody>\n",
       "</table>\n",
       "<p>5 rows × 460 columns</p>\n",
       "</div>"
      ],
      "text/plain": [
       "                   A       AAL       AAP      AAPL       ABC      ABMD  \\\n",
       "Date                                                                     \n",
       "2012-01-04 -0.007950 -0.017578  0.023444  0.005374  0.003415 -0.007671   \n",
       "2012-01-05  0.022382  0.087475  0.006363  0.011102  0.007592  0.008835   \n",
       "2012-01-06  0.010811  0.023766  0.004637  0.010454  0.002598 -0.007116   \n",
       "2012-01-09  0.026203  0.021429 -0.000280 -0.001586 -0.000518  0.003859   \n",
       "2012-01-10  0.018760  0.000000  0.000839  0.003580  0.011408 -0.002746   \n",
       "\n",
       "                 ABT       ACN      ADBE       ADI  ...      WYNN       XEL  \\\n",
       "Date                                                ...                       \n",
       "2012-01-04 -0.003879 -0.000378 -0.010150 -0.001388  ... -0.017197 -0.006584   \n",
       "2012-01-05 -0.002301 -0.019082  0.007072  0.004447  ... -0.010446  0.004418   \n",
       "2012-01-06 -0.009047 -0.001733  0.008427 -0.006641  ... -0.035186 -0.002933   \n",
       "2012-01-09 -0.000179 -0.001736 -0.006616  0.019499  ... -0.002805  0.000735   \n",
       "2012-01-10  0.004655  0.017201  0.023484  0.004372  ...  0.008346  0.008082   \n",
       "\n",
       "                XLNX       XOM      XRAY       XYL       YUM       ZBH  \\\n",
       "Date                                                                     \n",
       "2012-01-04 -0.010635  0.000233 -0.000283  0.033015  0.006829 -0.013534   \n",
       "2012-01-05  0.008880 -0.003022  0.000848 -0.014247  0.007631  0.011840   \n",
       "2012-01-06 -0.006486 -0.007463 -0.005932 -0.016797  0.007237  0.002600   \n",
       "2012-01-09  0.021759  0.004464 -0.004831  0.003973 -0.003843  0.007410   \n",
       "2012-01-10  0.001825  0.002573  0.014278  0.012267  0.006206  0.020964   \n",
       "\n",
       "                ZBRA      ZION  \n",
       "Date                            \n",
       "2012-01-04 -0.007559  0.022063  \n",
       "2012-01-05 -0.001410  0.028005  \n",
       "2012-01-06 -0.008192  0.001135  \n",
       "2012-01-09 -0.004557  0.013605  \n",
       "2012-01-10  0.009156  0.016219  \n",
       "\n",
       "[5 rows x 460 columns]"
      ]
     },
     "execution_count": 31,
     "metadata": {},
     "output_type": "execute_result"
    }
   ],
   "source": [
    "X_matrix.head()"
   ]
  },
  {
   "cell_type": "markdown",
   "id": "b1fd9148-d4b1-4d80-bf74-b3384d3a3e0d",
   "metadata": {},
   "source": [
    "## Obtaining $R$"
   ]
  },
  {
   "cell_type": "code",
   "execution_count": 32,
   "id": "dd852b06-bfe3-4b71-a452-756bb9a8256a",
   "metadata": {},
   "outputs": [],
   "source": [
    "R_matrix = np.corrcoef(X_matrix.T)"
   ]
  },
  {
   "cell_type": "code",
   "execution_count": 33,
   "id": "b3ca8bc3-8fbd-4eaa-b5ed-85fc57c4b51f",
   "metadata": {},
   "outputs": [
    {
     "data": {
      "text/plain": [
       "array([[1.        , 0.29372562, 0.29238002, ..., 0.44798073, 0.46050623,\n",
       "        0.41458942],\n",
       "       [0.29372562, 1.        , 0.25589812, ..., 0.35511135, 0.2528106 ,\n",
       "        0.42792454],\n",
       "       [0.29238002, 0.25589812, 1.        , ..., 0.30030208, 0.27456568,\n",
       "        0.34156475],\n",
       "       ...,\n",
       "       [0.44798073, 0.35511135, 0.30030208, ..., 1.        , 0.33233173,\n",
       "        0.43178304],\n",
       "       [0.46050623, 0.2528106 , 0.27456568, ..., 0.33233173, 1.        ,\n",
       "        0.35792117],\n",
       "       [0.41458942, 0.42792454, 0.34156475, ..., 0.43178304, 0.35792117,\n",
       "        1.        ]])"
      ]
     },
     "execution_count": 33,
     "metadata": {},
     "output_type": "execute_result"
    }
   ],
   "source": [
    "R_matrix"
   ]
  },
  {
   "cell_type": "markdown",
   "id": "a2b159bf-2493-4f7e-9a91-99a43072652d",
   "metadata": {},
   "source": [
    "## Getting the distance matrix $D$"
   ]
  },
  {
   "cell_type": "code",
   "execution_count": 34,
   "id": "fb34dc2f-4f20-446b-be59-d1eea507bf05",
   "metadata": {},
   "outputs": [],
   "source": [
    "D_matrix = 1 - R_matrix"
   ]
  },
  {
   "cell_type": "code",
   "execution_count": 35,
   "id": "10525684-369d-4c06-b205-44acc5281942",
   "metadata": {},
   "outputs": [
    {
     "data": {
      "text/plain": [
       "array([[2.22044605e-16, 7.06274376e-01, 7.07619977e-01, ...,\n",
       "        5.52019273e-01, 5.39493770e-01, 5.85410575e-01],\n",
       "       [7.06274376e-01, 0.00000000e+00, 7.44101881e-01, ...,\n",
       "        6.44888655e-01, 7.47189397e-01, 5.72075464e-01],\n",
       "       [7.07619977e-01, 7.44101881e-01, 0.00000000e+00, ...,\n",
       "        6.99697919e-01, 7.25434322e-01, 6.58435246e-01],\n",
       "       ...,\n",
       "       [5.52019273e-01, 6.44888655e-01, 6.99697919e-01, ...,\n",
       "        0.00000000e+00, 6.67668273e-01, 5.68216961e-01],\n",
       "       [5.39493770e-01, 7.47189397e-01, 7.25434322e-01, ...,\n",
       "        6.67668273e-01, 0.00000000e+00, 6.42078832e-01],\n",
       "       [5.85410575e-01, 5.72075464e-01, 6.58435246e-01, ...,\n",
       "        5.68216961e-01, 6.42078832e-01, 2.22044605e-16]])"
      ]
     },
     "execution_count": 35,
     "metadata": {},
     "output_type": "execute_result"
    }
   ],
   "source": [
    "D_matrix"
   ]
  },
  {
   "cell_type": "markdown",
   "id": "d27959b1-6b6f-4d8f-a96c-91d5e764e72e",
   "metadata": {},
   "source": [
    "## Determining the optimal number of clusters through the eigenvalues of $R$"
   ]
  },
  {
   "cell_type": "code",
   "execution_count": 36,
   "id": "e0d57c53-66eb-4e41-aef9-7943b8103058",
   "metadata": {},
   "outputs": [],
   "source": [
    "N = X_matrix.shape[0]\n",
    "T = X_matrix.shape[1]"
   ]
  },
  {
   "cell_type": "code",
   "execution_count": 37,
   "id": "ece5b6e7-8e8b-45a8-9a89-b9d40ec27bca",
   "metadata": {},
   "outputs": [],
   "source": [
    "q = N/T"
   ]
  },
  {
   "cell_type": "code",
   "execution_count": 38,
   "id": "8d9fd373-0a9d-4cea-88e5-b86f39980097",
   "metadata": {},
   "outputs": [
    {
     "data": {
      "text/plain": [
       "11.162500473138333"
      ]
     },
     "execution_count": 38,
     "metadata": {},
     "output_type": "execute_result"
    }
   ],
   "source": [
    "lambda_plus = (1 + np.sqrt(q))**2\n",
    "lambda_plus"
   ]
  },
  {
   "cell_type": "markdown",
   "id": "5673f3f5-d8ae-407b-bcff-868f31fc0b15",
   "metadata": {},
   "source": [
    "Test if the equality in (9) holds:"
   ]
  },
  {
   "cell_type": "code",
   "execution_count": 39,
   "id": "46e9b5b9-c06b-4390-8e27-b7d67a779cc5",
   "metadata": {},
   "outputs": [
    {
     "data": {
      "text/plain": [
       "11.162500473138333"
      ]
     },
     "execution_count": 39,
     "metadata": {},
     "output_type": "execute_result"
    }
   ],
   "source": [
    "1+ 2*(np.sqrt(N/T))+ N/T"
   ]
  },
  {
   "cell_type": "markdown",
   "id": "b18eaeaa-b3ce-496a-93e2-da3a8152712e",
   "metadata": {},
   "source": [
    "Obtaining the eigenvectors of $R$"
   ]
  },
  {
   "cell_type": "code",
   "execution_count": 43,
   "id": "6e0db1e6-f2e7-4f28-a959-f52082dd5b96",
   "metadata": {},
   "outputs": [],
   "source": [
    "lambdas_i = LA.eigvals(R_matrix)"
   ]
  },
  {
   "cell_type": "code",
   "execution_count": 44,
   "id": "5ba40856-2f12-4417-8c88-ce5a99b2db1a",
   "metadata": {},
   "outputs": [],
   "source": [
    "K = np.sum(lambdas_i > lambda_plus)"
   ]
  },
  {
   "cell_type": "code",
   "execution_count": 45,
   "id": "19780498-4b2d-4350-82b9-f3d32d944984",
   "metadata": {},
   "outputs": [
    {
     "data": {
      "text/plain": [
       "3"
      ]
     },
     "execution_count": 45,
     "metadata": {},
     "output_type": "execute_result"
    }
   ],
   "source": [
    "K"
   ]
  },
  {
   "cell_type": "markdown",
   "id": "66d5432a-f2e1-4a7f-9eda-6caca9706c81",
   "metadata": {},
   "source": [
    "## Implementing the clustering algorithm"
   ]
  },
  {
   "cell_type": "markdown",
   "id": "5541ec21-4dc5-4edb-bbca-aef735b517f7",
   "metadata": {},
   "source": [
    "Notar que se está utilizando la inicialización propuesta por Begusic."
   ]
  },
  {
   "cell_type": "code",
   "execution_count": 50,
   "id": "b552acbe-c98c-4dbf-95fb-7b168882749d",
   "metadata": {},
   "outputs": [],
   "source": [
    "C_kmeans = KMeans(n_clusters=K, random_state=0, init='k-means++').fit(X_matrix.T)"
   ]
  },
  {
   "cell_type": "code",
   "execution_count": 52,
   "id": "1af0a100-2fd5-4c92-a894-459539ca7bd9",
   "metadata": {},
   "outputs": [
    {
     "data": {
      "text/plain": [
       "array([2, 0, 2, 2, 2, 2, 2, 2, 2, 2, 2, 2, 2, 1, 1, 1, 0, 0, 2, 2, 2, 0,\n",
       "       2, 0, 1, 2, 2, 2, 2, 0, 1, 2, 2, 2, 2, 2, 0, 2, 2, 0, 1, 1, 2, 1,\n",
       "       2, 2, 1, 0, 1, 0, 0, 2, 0, 2, 2, 0, 1, 2, 2, 0, 0, 0, 2, 1, 2, 2,\n",
       "       2, 2, 2, 0, 1, 0, 1, 2, 0, 1, 1, 0, 1, 0, 2, 0, 2, 0, 1, 2, 2, 2,\n",
       "       1, 1, 1, 0, 2, 1, 2, 0, 1, 2, 1, 0, 2, 0, 1, 1, 2, 2, 2, 2, 2, 2,\n",
       "       0, 2, 2, 1, 0, 1, 0, 0, 0, 0, 1, 2, 2, 2, 2, 0, 0, 0, 1, 1, 0, 2,\n",
       "       1, 0, 1, 1, 2, 0, 0, 2, 2, 2, 2, 1, 2, 1, 2, 0, 0, 0, 1, 1, 1, 1,\n",
       "       0, 1, 1, 2, 1, 2, 0, 1, 0, 2, 2, 0, 2, 2, 1, 2, 2, 2, 0, 0, 0, 0,\n",
       "       1, 2, 2, 0, 2, 1, 0, 2, 0, 2, 2, 2, 2, 2, 0, 2, 0, 2, 0, 2, 0, 0,\n",
       "       2, 0, 0, 2, 2, 2, 0, 1, 2, 0, 1, 2, 2, 2, 2, 2, 2, 2, 2, 2, 2, 2,\n",
       "       0, 0, 2, 1, 2, 2, 2, 0, 2, 2, 2, 2, 1, 2, 0, 1, 0, 0, 2, 1, 0, 0,\n",
       "       1, 1, 0, 2, 2, 2, 2, 2, 0, 1, 1, 0, 1, 2, 2, 1, 0, 0, 0, 0, 2, 1,\n",
       "       0, 2, 1, 2, 2, 2, 1, 2, 0, 0, 0, 1, 2, 0, 2, 2, 2, 1, 0, 0, 2, 1,\n",
       "       0, 0, 2, 2, 2, 0, 2, 2, 2, 2, 1, 1, 2, 1, 2, 2, 0, 1, 1, 2, 2, 0,\n",
       "       0, 2, 2, 0, 2, 1, 2, 0, 0, 2, 2, 0, 2, 0, 2, 1, 1, 0, 1, 1, 0, 1,\n",
       "       1, 0, 2, 2, 2, 1, 1, 0, 0, 1, 2, 2, 1, 0, 1, 2, 0, 0, 0, 2, 0, 1,\n",
       "       1, 2, 0, 0, 0, 0, 2, 2, 2, 2, 0, 1, 0, 1, 0, 2, 0, 2, 2, 0, 1, 0,\n",
       "       0, 2, 1, 0, 2, 1, 2, 0, 2, 1, 0, 2, 2, 0, 1, 1, 0, 2, 2, 2, 2, 0,\n",
       "       2, 1, 2, 2, 2, 0, 2, 2, 1, 2, 2, 1, 2, 2, 2, 0, 2, 0, 0, 1, 0, 0,\n",
       "       2, 2, 2, 0, 0, 2, 0, 0, 0, 0, 0, 2, 2, 2, 1, 2, 1, 0, 2, 1, 0, 1,\n",
       "       1, 0, 2, 2, 1, 0, 1, 1, 2, 0, 0, 1, 2, 0, 2, 2, 2, 2, 2, 0],\n",
       "      dtype=int32)"
      ]
     },
     "execution_count": 52,
     "metadata": {},
     "output_type": "execute_result"
    }
   ],
   "source": [
    "C_kmeans.labels_"
   ]
  },
  {
   "cell_type": "markdown",
   "id": "4a1dc249-ab0b-428f-b337-13ddd40c36e9",
   "metadata": {},
   "source": [
    "## Creating the S matrix"
   ]
  },
  {
   "cell_type": "code",
   "execution_count": null,
   "id": "70823575-7708-499f-8cbe-9d497780585c",
   "metadata": {},
   "outputs": [],
   "source": [
    "def get_s_matrix(K, R_matrix, C_kmeans):\n",
    "    labels = np.unique(C_kmeans.labels_)\n",
    "    "
   ]
  },
  {
   "cell_type": "code",
   "execution_count": 69,
   "id": "5594dd9c-318b-4791-8837-5e6382700164",
   "metadata": {},
   "outputs": [],
   "source": [
    "labels = np.unique(C_kmeans.labels_)"
   ]
  },
  {
   "cell_type": "code",
   "execution_count": 76,
   "id": "340d6c49-561d-452a-afa8-a0135b0e7f8f",
   "metadata": {},
   "outputs": [],
   "source": [
    "c_ps = [np.sum(C_kmeans.labels_ == label) for label in labels]"
   ]
  },
  {
   "cell_type": "code",
   "execution_count": 64,
   "id": "77fc34d0-72e7-403c-81cd-c90eaba5b7e1",
   "metadata": {},
   "outputs": [
    {
     "data": {
      "text/plain": [
       "array([[0., 0., 0.],\n",
       "       [0., 0., 0.],\n",
       "       [0., 0., 0.]])"
      ]
     },
     "execution_count": 64,
     "metadata": {},
     "output_type": "execute_result"
    }
   ],
   "source": [
    "S_matrix = np.zeros((K, K))\n",
    "S_matrix"
   ]
  },
  {
   "cell_type": "code",
   "execution_count": 80,
   "id": "a07d369f-ac71-483d-aea6-87541b74d35f",
   "metadata": {},
   "outputs": [
    {
     "name": "stdout",
     "output_type": "stream",
     "text": [
      "4.856254856254856e-05\n",
      "3.306878306878307e-05\n",
      "1.6456029489204843e-05\n",
      "3.306878306878307e-05\n",
      "9.157509157509158e-05\n",
      "2.2568269013766644e-05\n",
      "1.6456029489204843e-05\n",
      "2.2568269013766644e-05\n",
      "2.2568269013766644e-05\n"
     ]
    }
   ],
   "source": [
    "for i in range(K):\n",
    "    for j in range(K):\n",
    "        if i == j:\n",
    "            constant = 1/(c_ps[i] * (c_ps[i]-1))\n",
    "            print(constant)\n",
    "        else:\n",
    "            constant = 1/(2*c_ps[i]*c_ps[j])\n",
    "            print(constant)\n",
    "        "
   ]
  },
  {
   "cell_type": "markdown",
   "id": "21d01b33-b8da-474f-8023-6ca8e4d54b7a",
   "metadata": {},
   "source": []
  },
  {
   "cell_type": "code",
   "execution_count": null,
   "id": "feac358d-66c6-4f6e-a4c8-68639b512345",
   "metadata": {},
   "outputs": [],
   "source": []
  },
  {
   "cell_type": "code",
   "execution_count": 70,
   "id": "f01d7030-0fd0-41de-952c-d95d809ffed8",
   "metadata": {},
   "outputs": [
    {
     "data": {
      "text/plain": [
       "0"
      ]
     },
     "execution_count": 70,
     "metadata": {},
     "output_type": "execute_result"
    }
   ],
   "source": [
    "labels[0]"
   ]
  },
  {
   "cell_type": "code",
   "execution_count": 73,
   "id": "8e446ca4-cc63-4d3e-b38d-1dfe0e27f2b2",
   "metadata": {},
   "outputs": [
    {
     "data": {
      "text/plain": [
       "144"
      ]
     },
     "execution_count": 73,
     "metadata": {},
     "output_type": "execute_result"
    }
   ],
   "source": [
    "np.sum(C_kmeans.labels_ == 0)"
   ]
  },
  {
   "cell_type": "code",
   "execution_count": null,
   "id": "59d73540-e694-4e3b-b3e2-db986c0a266f",
   "metadata": {},
   "outputs": [],
   "source": []
  },
  {
   "cell_type": "code",
   "execution_count": null,
   "id": "faaf5137-d4ef-4500-b934-008e4872389e",
   "metadata": {},
   "outputs": [],
   "source": []
  },
  {
   "cell_type": "code",
   "execution_count": null,
   "id": "2266dbf0-e6f4-4c60-95ef-ea3c4ce4e11a",
   "metadata": {},
   "outputs": [],
   "source": []
  },
  {
   "cell_type": "code",
   "execution_count": null,
   "id": "d3228ff6-9c57-4c64-a111-fd9d91a6a44f",
   "metadata": {},
   "outputs": [],
   "source": []
  },
  {
   "cell_type": "code",
   "execution_count": null,
   "id": "76f23781-8245-41dd-b99d-7a57cd940cd3",
   "metadata": {},
   "outputs": [],
   "source": []
  },
  {
   "cell_type": "code",
   "execution_count": null,
   "id": "9ac1e13b-0c05-4c53-89de-93468424be1a",
   "metadata": {},
   "outputs": [],
   "source": []
  },
  {
   "cell_type": "code",
   "execution_count": null,
   "id": "d058ed53-8c22-46dd-850c-f6811c6e661b",
   "metadata": {},
   "outputs": [],
   "source": []
  },
  {
   "cell_type": "code",
   "execution_count": null,
   "id": "f73de2cc-484c-4ae9-b6c2-161717676a96",
   "metadata": {},
   "outputs": [],
   "source": []
  },
  {
   "cell_type": "code",
   "execution_count": null,
   "id": "91dc2fa5-3977-4cbd-ba3e-da407e071c49",
   "metadata": {},
   "outputs": [],
   "source": []
  },
  {
   "cell_type": "code",
   "execution_count": null,
   "id": "282de667-c218-4364-9be0-c8c833e05333",
   "metadata": {},
   "outputs": [],
   "source": []
  },
  {
   "cell_type": "code",
   "execution_count": null,
   "id": "403bfc04-6bb4-458f-92ab-33d96779321b",
   "metadata": {},
   "outputs": [],
   "source": []
  },
  {
   "cell_type": "code",
   "execution_count": 59,
   "id": "c7ed4adc-61ed-4e05-9afa-72b064b51336",
   "metadata": {},
   "outputs": [
    {
     "data": {
      "text/plain": [
       "array([0, 1, 2], dtype=int32)"
      ]
     },
     "execution_count": 59,
     "metadata": {},
     "output_type": "execute_result"
    }
   ],
   "source": [
    "np.unique(C_kmeans.labels_)"
   ]
  },
  {
   "cell_type": "code",
   "execution_count": null,
   "id": "f07a9e85-02c6-406b-9bec-020647683acf",
   "metadata": {},
   "outputs": [],
   "source": []
  },
  {
   "cell_type": "code",
   "execution_count": null,
   "id": "2c02050e-6acf-45dd-8b61-021da43b6c36",
   "metadata": {},
   "outputs": [],
   "source": []
  },
  {
   "cell_type": "code",
   "execution_count": null,
   "id": "3f8f0e84-7fe9-4c95-8b1c-72ec6fa0d4f8",
   "metadata": {},
   "outputs": [],
   "source": []
  },
  {
   "cell_type": "code",
   "execution_count": null,
   "id": "daaf2905-f1a0-45c7-afec-7673cbe5d125",
   "metadata": {},
   "outputs": [],
   "source": []
  },
  {
   "cell_type": "code",
   "execution_count": null,
   "id": "07d8f5bc-1d7a-4570-a364-b1b39efc21ee",
   "metadata": {},
   "outputs": [],
   "source": []
  },
  {
   "cell_type": "code",
   "execution_count": null,
   "id": "0c86b567-1645-4433-b668-965d2e05fae3",
   "metadata": {},
   "outputs": [],
   "source": []
  },
  {
   "cell_type": "code",
   "execution_count": null,
   "id": "d15425e7-b509-4ca0-8d2b-e43aa7a1898a",
   "metadata": {},
   "outputs": [],
   "source": []
  },
  {
   "cell_type": "code",
   "execution_count": null,
   "id": "1f86e8f4-133b-4cd0-91fa-b589ecf9d6b2",
   "metadata": {},
   "outputs": [],
   "source": []
  },
  {
   "cell_type": "code",
   "execution_count": null,
   "id": "19d2d9cc-45db-4bf3-9c5d-a5b83fbedf5a",
   "metadata": {},
   "outputs": [],
   "source": []
  },
  {
   "cell_type": "code",
   "execution_count": null,
   "id": "858f688f-5dcb-41ef-a8e0-ee28105c1cd7",
   "metadata": {},
   "outputs": [],
   "source": []
  },
  {
   "cell_type": "code",
   "execution_count": null,
   "id": "98844d57-6f85-4376-a67c-843b20325f8e",
   "metadata": {},
   "outputs": [],
   "source": []
  },
  {
   "cell_type": "code",
   "execution_count": null,
   "id": "d4e89101-a715-495e-8537-9cf289c9437e",
   "metadata": {},
   "outputs": [],
   "source": []
  }
 ],
 "metadata": {
  "kernelspec": {
   "display_name": "Python 3 (ipykernel)",
   "language": "python",
   "name": "python3"
  },
  "language_info": {
   "codemirror_mode": {
    "name": "ipython",
    "version": 3
   },
   "file_extension": ".py",
   "mimetype": "text/x-python",
   "name": "python",
   "nbconvert_exporter": "python",
   "pygments_lexer": "ipython3",
   "version": "3.8.12"
  }
 },
 "nbformat": 4,
 "nbformat_minor": 5
}
